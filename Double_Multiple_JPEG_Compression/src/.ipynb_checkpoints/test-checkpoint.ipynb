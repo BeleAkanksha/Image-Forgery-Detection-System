{
 "metadata": {
  "name": "",
  "signature": "sha256:d2e93706c8a18d91ddf5b1e4061095dc11cd3acb552702d96bef3899d6df2b84"
 },
 "nbformat": 3,
 "nbformat_minor": 0,
 "worksheets": []
}